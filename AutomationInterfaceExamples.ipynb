{
 "cells": [
  {
   "cell_type": "markdown",
   "metadata": {},
   "source": [
    "# Beckhoff Automation Interface Example\n",
    "This example shows a few scenarios for automation interface usage. To run install the .NET Interactive Notebooks extension for Visual Studio Code from https://marketplace.visualstudio.com/items?itemName=ms-dotnettools.dotnet-interactive-vscode and then open this notebook in Visual Studio Code."
   ]
  },
  {
   "cell_type": "code",
   "execution_count": null,
   "metadata": {
    "dotnet_interactive": {
     "language": "pwsh"
    },
    "vscode": {
     "languageId": "dotnet-interactive.pwsh"
    }
   },
   "outputs": [],
   "source": [
    "# Load the COM message filter. See the Automation Interface documentation for more information.\n",
    "Add-Type -TypeDefinition (Get-Content \".\\MessageFilter.cs\" -Raw)\n",
    "[EnvDteUtils.MessageFilter]::Register()\n",
    "\n",
    "Add-Type -Path \"C:\\TwinCAT\\3.1\\Components\\Plc\\Common\\OnlineCommands.dll\"\n",
    "$loginServiceFlags = [_3S.CoDeSys.OnlineCommands.LoginServiceFlags]"
   ]
  },
  {
   "cell_type": "code",
   "execution_count": null,
   "metadata": {
    "dotnet_interactive": {
     "language": "pwsh"
    },
    "vscode": {
     "languageId": "dotnet-interactive.pwsh"
    }
   },
   "outputs": [],
   "source": [
    "# Set the visual studio program ID. See https://infosys.beckhoff.com/english.php?content=../content/1033/tc3_automationinterface/242746251.html&id= for a list.\n",
    "$vsName = \"TcXaeShell.DTE.15.0\"\n",
    "\n",
    "# Set the project template, this one is provided by Beckhoff\n",
    "$template = \"C:\\TwinCAT\\3.1\\Components\\Base\\PrjTemplate\\TwinCAT Project.tsproj\"\n",
    "\n",
    "# Set the plc template, this one is provided by Beckhoff\n",
    "$plcTemplate = \"Standard PLC Template\"\n",
    "\n",
    "# Configure where to place the generated project\n",
    "$currentDir = Get-Location\n",
    "$projectDirectory = \"$currentDir\\project\"\n",
    "$projectName = \"TestPLC\"\n",
    "$plcName = \"TestPLC\"\n",
    "\n",
    "# Configure where to deploy the generated project to. This could be local host (127.0.0.1) or a remote PLC\n",
    "$targetIpAddress = \"10.1.12.180\""
   ]
  },
  {
   "cell_type": "code",
   "execution_count": null,
   "metadata": {
    "dotnet_interactive": {
     "language": "pwsh"
    },
    "vscode": {
     "languageId": "dotnet-interactive.pwsh"
    }
   },
   "outputs": [],
   "source": [
    "# Access the Visual Studio DTE and change the visibility of Visual Studio. To hide VS change the SuppressUI property to $true\n",
    "$dte = new-object -com $vsName\n",
    "Start-Sleep -Seconds 20\n",
    "$dte.SuppressUI = $false\n",
    "$dte.MainWindow.Visible = $true"
   ]
  },
  {
   "cell_type": "code",
   "execution_count": null,
   "metadata": {
    "dotnet_interactive": {
     "language": "pwsh"
    },
    "vscode": {
     "languageId": "dotnet-interactive.pwsh"
    }
   },
   "outputs": [],
   "source": [
    "# Create a new XAE project from a template\n",
    "$sln = $dte.Solution\n",
    "$project = $sln.AddFromTemplate($template,$projectDirectory,$projectName)\n",
    "$systemManager = $project.Object"
   ]
  },
  {
   "cell_type": "code",
   "execution_count": null,
   "metadata": {
    "dotnet_interactive": {
     "language": "pwsh"
    },
    "vscode": {
     "languageId": "dotnet-interactive.pwsh"
    }
   },
   "outputs": [],
   "source": [
    "# Create a new PLC project from a template\n",
    "$plc = $systemManager.LookupTreeItem(\"TIPC\")\n",
    "$newProject = $plc.CreateChild($plcName, 0, \"\", $plcTemplate)"
   ]
  },
  {
   "cell_type": "code",
   "execution_count": null,
   "metadata": {
    "dotnet_interactive": {
     "language": "pwsh"
    },
    "vscode": {
     "languageId": "dotnet-interactive.pwsh"
    }
   },
   "outputs": [],
   "source": [
    "# Edit the content of the MAIN program\n",
    "$main = $systemManager.LookupTreeItem(\"TIPC^$plcName^$plcName Project^POUs^MAIN\")\n",
    "$main.DeclarationText =  @\"\n",
    "PROGRAM MAIN\n",
    "VAR\n",
    "    test2 : DINT;\n",
    "END_VAR\n",
    "\"@\n",
    "\n",
    "$main.ImplementationText = @\"\n",
    "test2 := test2 + 1;\n",
    "\"@"
   ]
  },
  {
   "cell_type": "markdown",
   "metadata": {},
   "source": [
    "## Adding route by IP Address\n",
    "The example below adds a route using Automation Interface. The same could be accomplished using the ADS Powershell module shown later."
   ]
  },
  {
   "cell_type": "code",
   "execution_count": null,
   "metadata": {
    "dotnet_interactive": {
     "language": "pwsh"
    },
    "vscode": {
     "languageId": "dotnet-interactive.pwsh"
    }
   },
   "outputs": [
    {
     "name": "stdout",
     "output_type": "stream",
     "text": [
      "Found target at 10.1.12.180 with hostname TESTPLC01 and AmsNetId 172.18.234.196.1.1\r\n"
     ]
    }
   ],
   "source": [
    "# Set the target\n",
    "\n",
    "# Adding TwinCAT ADS Route\n",
    "$localAmsNetId = Get-ItemPropertyValue -Path HKLM:\\SOFTWARE\\WOW6432Node\\Beckhoff\\TwinCAT3\\System -Name \"AmsNetId\" \n",
    "$localAmsNetId = $localAmsNetId -join \".\"\n",
    "\n",
    "$systemManager.SetTargetNetId($localAmsNetId)\n",
    "\n",
    "$routes = $systemManager.LookupTreeItem(\"TIRR\")\n",
    "\n",
    "$xml = \"<TreeItem>\n",
    "    <RoutePrj>\n",
    "        <TargetList>\n",
    "            <Search>$targetIpAddress</Search>\n",
    "        </TargetList>\n",
    "    </RoutePrj>\n",
    "</TreeItem>\"\n",
    "$routes.ConsumeXml($xml)\n",
    "$result = $routes.ProduceXml()\n",
    "\n",
    "$xmlDocument = [xml]$result\n",
    "$remoteAmsNetId = Select-Xml -Xml $xmlDocument -XPath \"//TreeItem/RoutePrj/TargetList/Target/IpAddr[text()=\"\"$targetIpAddress\"\"]/../NetId\" | ForEach-Object {$_.node.InnerXML}\n",
    "$remoteName = Select-Xml -Xml $xmlDocument -XPath \"//TreeItem/RoutePrj/TargetList/Target/IpAddr[text()=\"\"$targetIpAddress\"\"]/../Name\" | ForEach-Object {$_.node.InnerXML}\n",
    "\n",
    "Write-Output \"Found target at $targetIpAddress with hostname $remoteName and AmsNetId $remoteAmsNetId\"\n",
    "\n",
    "$xml = @\"\n",
    "<TreeItem>\n",
    "    <ItemName>Route Settings</ItemName>\n",
    "    <PathName>TIRR</PathName>\n",
    "    <RoutePrj>\n",
    "    <TargetList>\n",
    "        <BroadcastSearch>false</BroadcastSearch>\n",
    "    </TargetList>\n",
    "    <AddRoute>\n",
    "        <RemoteName>$remoteName</RemoteName>\n",
    "        <RemoteNetId>$remoteAmsNetId</RemoteNetId>\n",
    "        <RemoteIpAddr>$targetIpAddress</RemoteIpAddr>\n",
    "        <UserName>Administrator</UserName>\n",
    "        <Password>1</Password>\n",
    "        <NoEncryption></NoEncryption>\n",
    "        <LocalName>Temporary Route Local</LocalName>\n",
    "    </AddRoute>\n",
    "    </RoutePrj>\n",
    "</TreeItem>\n",
    "\"@\n",
    "$routes.ConsumeXml($xml)\n"
   ]
  },
  {
   "cell_type": "markdown",
   "metadata": {},
   "source": [
    "## Deploying project to remote PLC\n",
    "The example below changes the real time settings of the PLC. You may need to alter depending on the hardware you are deploying to."
   ]
  },
  {
   "cell_type": "code",
   "execution_count": null,
   "metadata": {
    "dotnet_interactive": {
     "language": "pwsh"
    },
    "vscode": {
     "languageId": "dotnet-interactive.pwsh"
    }
   },
   "outputs": [
    {
     "name": "stdout",
     "output_type": "stream",
     "text": [
      "Changing real time configuration to match build agent hardware\r\n"
     ]
    }
   ],
   "source": [
    "# Overwrite the realtime settings to match the target\n",
    "$xml = @\"\n",
    "<TreeItem>\n",
    "    <RTimeSetDef>\n",
    "        <MaxCPUs>4</MaxCPUs>\n",
    "        <Affinity>#x8</Affinity>\n",
    "        <CPUs>\n",
    "            <CPU id=\"3\">\n",
    "                <LoadLimit>80</LoadLimit>\n",
    "                <BaseTime>10000</BaseTime>\n",
    "                <LatencyWarning>0</LatencyWarning>\n",
    "            </CPU>\n",
    "        </CPUs>\n",
    "    </RTimeSetDef>\n",
    "</TreeItem>\n",
    "\"@\n",
    "\n",
    "Write-Output \"Changing real time configuration to match build agent hardware\"\n",
    "$systemManager.LookupTreeItem(\"TIRS\").ConsumeXml($xml)"
   ]
  },
  {
   "cell_type": "code",
   "execution_count": null,
   "metadata": {
    "dotnet_interactive": {
     "language": "pwsh"
    },
    "vscode": {
     "languageId": "dotnet-interactive.pwsh"
    }
   },
   "outputs": [
    {
     "name": "stdout",
     "output_type": "stream",
     "text": [
      "Activating configuration\r\n",
      "Restarting TwinCAT\r\n"
     ]
    }
   ],
   "source": [
    "# Note: if you have not activated on this target before, you will need to license it manually before continuing\n",
    "$systemManager.SetTargetNetId($remoteAmsNetId)\n",
    "\n",
    "Write-Output \"Activating configuration\"\n",
    "$systemManager.ActivateConfiguration()\n",
    "\n",
    "Write-Output \"Restarting TwinCAT\"\n",
    "$systemManager.StartRestartTwinCAT()"
   ]
  },
  {
   "cell_type": "markdown",
   "metadata": {},
   "source": [
    "## Online Changes\n",
    "\n",
    "This example edits the main program and makes an online change."
   ]
  },
  {
   "cell_type": "code",
   "execution_count": null,
   "metadata": {
    "dotnet_interactive": {
     "language": "pwsh"
    },
    "vscode": {
     "languageId": "dotnet-interactive.pwsh"
    }
   },
   "outputs": [
    {
     "name": "stdout",
     "output_type": "stream",
     "text": [
      "PLC compiles Ok? True\r\n"
     ]
    }
   ],
   "source": [
    "# Online change\n",
    "# Edit the content of the MAIN program\n",
    "$main.DeclarationText = @\"\n",
    "PROGRAM MAIN\n",
    "VAR\n",
    "    test5 : DINT;\n",
    "END_VAR\n",
    "\"@\n",
    "\n",
    "$main.ImplementationText = @\"\n",
    "test5 := test5 + 100;\n",
    "\"@\n",
    "\n",
    "$plcProjectItem = $systemManager.LookupTreeItem(\"TIPC^$plcName^$plcName Project\")\n",
    "\n",
    "$compileResult = $plcProjectItem.CheckAllObjects()\n",
    "Write-Output \"PLC compiles Ok? $compileResult\"\n",
    "\n",
    "if ($compileResult)\n",
    "{\n",
    "    $plcProjectItem.Login($loginServiceFlags::CompileCodeBeforeLogin + $loginServiceFlags::SuppressAllDialogs)\n",
    "    $plcProjectItem.Logoff()\n",
    "}"
   ]
  },
  {
   "cell_type": "markdown",
   "metadata": {},
   "source": [
    "## Powershell ADS\n",
    "\n",
    "See https://download.beckhoff.com/download/document/automation/twincat3/TwinCAT_3_ADS_Powershell_Module_EN.pdf\n",
    "\n",
    "Run `Install-Module -Name TcXaeMgmt` in a Powershell terminal first.\n"
   ]
  },
  {
   "cell_type": "code",
   "execution_count": null,
   "metadata": {
    "dotnet_interactive": {
     "language": "pwsh"
    },
    "vscode": {
     "languageId": "dotnet-interactive.pwsh"
    }
   },
   "outputs": [],
   "source": [
    "$route = Get-AdsRoute -Address $remoteAmsNetId\n",
    "$session = New-TcSession -Address $remoteAmsNetId -Port 851"
   ]
  },
  {
   "cell_type": "code",
   "execution_count": null,
   "metadata": {
    "dotnet_interactive": {
     "language": "pwsh"
    },
    "vscode": {
     "languageId": "dotnet-interactive.pwsh"
    }
   },
   "outputs": [
    {
     "name": "stdout",
     "output_type": "stream",
     "text": [
      "66900\r\n"
     ]
    }
   ],
   "source": [
    "$session | Read-TcValue -Path \"MAIN.test5\""
   ]
  },
  {
   "cell_type": "markdown",
   "metadata": {
    "dotnet_interactive": {
     "language": "pwsh"
    }
   },
   "source": [
    "# Cleanup"
   ]
  },
  {
   "cell_type": "code",
   "execution_count": null,
   "metadata": {
    "dotnet_interactive": {
     "language": "pwsh"
    },
    "vscode": {
     "languageId": "dotnet-interactive.pwsh"
    }
   },
   "outputs": [],
   "source": [
    "# $sln.Close()\n",
    "# $dte.Quit()\n",
    "\n",
    "# [EnvDteUtils.MessageFilter]::Revoke()\n",
    "\n",
    "# Remove-Item -Path $targetDir -Recurse -Force"
   ]
  }
 ],
 "metadata": {
  "kernelspec": {
   "display_name": ".NET (C#)",
   "language": "C#",
   "name": ".net-csharp"
  },
  "language_info": {
   "file_extension": ".cs",
   "mimetype": "text/x-csharp",
   "name": "C#",
   "pygments_lexer": "csharp",
   "version": "9.0"
  },
  "orig_nbformat": 4
 },
 "nbformat": 4,
 "nbformat_minor": 2
}
